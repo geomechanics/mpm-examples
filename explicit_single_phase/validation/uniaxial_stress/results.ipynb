{
 "cells": [
  {
   "cell_type": "markdown",
   "metadata": {},
   "source": [
    "# Uniaxial stress\n",
    "\n",
    "## USF"
   ]
  },
  {
   "cell_type": "code",
   "execution_count": 1,
   "metadata": {},
   "outputs": [
    {
     "name": "stdout",
     "output_type": "stream",
     "text": [
      "Maximum σ_yy: -0.9999999999999999\n",
      "Minimum σ_xx: 0.0\n"
     ]
    }
   ],
   "source": [
    "import pandas as pd\n",
    "df = pd.read_hdf('results/uniaxial-stress-2d-usf/particles09.h5', 'table')\n",
    "print(\"Maximum σ_yy: {}\".format(df['stress_yy'].max()))\n",
    "print(\"Minimum σ_xx: {}\".format(df['stress_xx'].min()))"
   ]
  }
 ],
 "metadata": {
  "kernelspec": {
   "display_name": "Python 3",
   "language": "python",
   "name": "python3"
  },
  "language_info": {
   "codemirror_mode": {
    "name": "ipython",
    "version": 3
   },
   "file_extension": ".py",
   "mimetype": "text/x-python",
   "name": "python",
   "nbconvert_exporter": "python",
   "pygments_lexer": "ipython3",
   "version": "3.7.5"
  }
 },
 "nbformat": 4,
 "nbformat_minor": 2
}
